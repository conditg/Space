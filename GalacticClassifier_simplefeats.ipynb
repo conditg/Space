{
 "cells": [
  {
   "cell_type": "code",
   "execution_count": 20,
   "metadata": {},
   "outputs": [],
   "source": [
    "from imblearn.over_sampling import SMOTE\n",
    "import numpy as np\n",
    "import matplotlib.pyplot as plt\n",
    "import cesium.featurize as featurize\n",
    "from collections import Counter, OrderedDict\n",
    "from operator import itemgetter\n",
    "import seaborn as sns\n",
    "import pandas as pd\n",
    "from sklearn.neighbors import KNeighborsClassifier\n",
    "from sklearn.metrics import confusion_matrix\n",
    "from sklearn.model_selection import train_test_split, cross_val_score\n",
    "from sklearn.preprocessing import StandardScaler\n",
    "from sklearn.decomposition import PCA \n",
    "from sklearn.linear_model import LogisticRegressionCV\n",
    "pd.options.mode.use_inf_as_na = True"
   ]
  },
  {
   "cell_type": "code",
   "execution_count": 8,
   "metadata": {},
   "outputs": [
    {
     "data": {
      "text/plain": [
       "(7848, 48)"
      ]
     },
     "metadata": {},
     "output_type": "display_data"
    },
    {
     "data": {
      "text/html": [
       "<div>\n",
       "<style scoped>\n",
       "    .dataframe tbody tr th:only-of-type {\n",
       "        vertical-align: middle;\n",
       "    }\n",
       "\n",
       "    .dataframe tbody tr th {\n",
       "        vertical-align: top;\n",
       "    }\n",
       "\n",
       "    .dataframe thead th {\n",
       "        text-align: right;\n",
       "    }\n",
       "</style>\n",
       "<table border=\"1\" class=\"dataframe\">\n",
       "  <thead>\n",
       "    <tr style=\"text-align: right;\">\n",
       "      <th></th>\n",
       "      <th>object_id</th>\n",
       "      <th>mean_u</th>\n",
       "      <th>median_u</th>\n",
       "      <th>std_u</th>\n",
       "      <th>max_u</th>\n",
       "      <th>min_u</th>\n",
       "      <th>mean_g</th>\n",
       "      <th>median_g</th>\n",
       "      <th>std_g</th>\n",
       "      <th>max_g</th>\n",
       "      <th>...</th>\n",
       "      <th>decl</th>\n",
       "      <th>gal_l</th>\n",
       "      <th>gal_b</th>\n",
       "      <th>ddf</th>\n",
       "      <th>hostgal_specz</th>\n",
       "      <th>hostgal_photoz</th>\n",
       "      <th>hostgal_photoz_err</th>\n",
       "      <th>distmod</th>\n",
       "      <th>mwebv</th>\n",
       "      <th>target</th>\n",
       "    </tr>\n",
       "  </thead>\n",
       "  <tbody>\n",
       "    <tr>\n",
       "      <th>0</th>\n",
       "      <td>615</td>\n",
       "      <td>-3.254554</td>\n",
       "      <td>-385.699911</td>\n",
       "      <td>-134.146566</td>\n",
       "      <td>-121.103501</td>\n",
       "      <td>-55.954592</td>\n",
       "      <td>-47.449847</td>\n",
       "      <td>-10.015225</td>\n",
       "      <td>-488.057968</td>\n",
       "      <td>-265.686005</td>\n",
       "      <td>...</td>\n",
       "      <td>-61.943836</td>\n",
       "      <td>320.79653</td>\n",
       "      <td>-51.753706</td>\n",
       "      <td>1</td>\n",
       "      <td>0.0</td>\n",
       "      <td>0.0</td>\n",
       "      <td>0.0</td>\n",
       "      <td>NaN</td>\n",
       "      <td>0.017</td>\n",
       "      <td>92</td>\n",
       "    </tr>\n",
       "  </tbody>\n",
       "</table>\n",
       "<p>1 rows × 48 columns</p>\n",
       "</div>"
      ],
      "text/plain": [
       "   object_id    mean_u    median_u       std_u       max_u      min_u  \\\n",
       "0        615 -3.254554 -385.699911 -134.146566 -121.103501 -55.954592   \n",
       "\n",
       "      mean_g   median_g       std_g       max_g   ...         decl      gal_l  \\\n",
       "0 -47.449847 -10.015225 -488.057968 -265.686005   ...   -61.943836  320.79653   \n",
       "\n",
       "       gal_b  ddf  hostgal_specz  hostgal_photoz  hostgal_photoz_err  distmod  \\\n",
       "0 -51.753706    1            0.0             0.0                 0.0      NaN   \n",
       "\n",
       "   mwebv  target  \n",
       "0  0.017      92  \n",
       "\n",
       "[1 rows x 48 columns]"
      ]
     },
     "execution_count": 8,
     "metadata": {},
     "output_type": "execute_result"
    }
   ],
   "source": [
    "#read in our training features:\n",
    "df = pd.read_csv('trainingfeats.csv')\n",
    "display(df.shape)\n",
    "df.head(1)"
   ]
  },
  {
   "cell_type": "code",
   "execution_count": 15,
   "metadata": {},
   "outputs": [
    {
     "data": {
      "text/plain": [
       "(2325, 48)"
      ]
     },
     "metadata": {},
     "output_type": "display_data"
    },
    {
     "data": {
      "text/html": [
       "<div>\n",
       "<style scoped>\n",
       "    .dataframe tbody tr th:only-of-type {\n",
       "        vertical-align: middle;\n",
       "    }\n",
       "\n",
       "    .dataframe tbody tr th {\n",
       "        vertical-align: top;\n",
       "    }\n",
       "\n",
       "    .dataframe thead th {\n",
       "        text-align: right;\n",
       "    }\n",
       "</style>\n",
       "<table border=\"1\" class=\"dataframe\">\n",
       "  <thead>\n",
       "    <tr style=\"text-align: right;\">\n",
       "      <th></th>\n",
       "      <th>object_id</th>\n",
       "      <th>mean_u</th>\n",
       "      <th>median_u</th>\n",
       "      <th>std_u</th>\n",
       "      <th>max_u</th>\n",
       "      <th>min_u</th>\n",
       "      <th>mean_g</th>\n",
       "      <th>median_g</th>\n",
       "      <th>std_g</th>\n",
       "      <th>max_g</th>\n",
       "      <th>...</th>\n",
       "      <th>ra</th>\n",
       "      <th>decl</th>\n",
       "      <th>gal_l</th>\n",
       "      <th>gal_b</th>\n",
       "      <th>ddf</th>\n",
       "      <th>hostgal_specz</th>\n",
       "      <th>hostgal_photoz</th>\n",
       "      <th>hostgal_photoz_err</th>\n",
       "      <th>distmod</th>\n",
       "      <th>mwebv</th>\n",
       "    </tr>\n",
       "    <tr>\n",
       "      <th>target</th>\n",
       "      <th></th>\n",
       "      <th></th>\n",
       "      <th></th>\n",
       "      <th></th>\n",
       "      <th></th>\n",
       "      <th></th>\n",
       "      <th></th>\n",
       "      <th></th>\n",
       "      <th></th>\n",
       "      <th></th>\n",
       "      <th></th>\n",
       "      <th></th>\n",
       "      <th></th>\n",
       "      <th></th>\n",
       "      <th></th>\n",
       "      <th></th>\n",
       "      <th></th>\n",
       "      <th></th>\n",
       "      <th></th>\n",
       "      <th></th>\n",
       "      <th></th>\n",
       "    </tr>\n",
       "  </thead>\n",
       "  <tbody>\n",
       "    <tr>\n",
       "      <th>6</th>\n",
       "      <td>151</td>\n",
       "      <td>151</td>\n",
       "      <td>151</td>\n",
       "      <td>151</td>\n",
       "      <td>151</td>\n",
       "      <td>151</td>\n",
       "      <td>151</td>\n",
       "      <td>151</td>\n",
       "      <td>151</td>\n",
       "      <td>151</td>\n",
       "      <td>...</td>\n",
       "      <td>151</td>\n",
       "      <td>151</td>\n",
       "      <td>151</td>\n",
       "      <td>151</td>\n",
       "      <td>151</td>\n",
       "      <td>151</td>\n",
       "      <td>151</td>\n",
       "      <td>151</td>\n",
       "      <td>0</td>\n",
       "      <td>151</td>\n",
       "    </tr>\n",
       "    <tr>\n",
       "      <th>16</th>\n",
       "      <td>924</td>\n",
       "      <td>924</td>\n",
       "      <td>924</td>\n",
       "      <td>924</td>\n",
       "      <td>924</td>\n",
       "      <td>924</td>\n",
       "      <td>924</td>\n",
       "      <td>924</td>\n",
       "      <td>924</td>\n",
       "      <td>924</td>\n",
       "      <td>...</td>\n",
       "      <td>924</td>\n",
       "      <td>924</td>\n",
       "      <td>924</td>\n",
       "      <td>924</td>\n",
       "      <td>924</td>\n",
       "      <td>924</td>\n",
       "      <td>924</td>\n",
       "      <td>924</td>\n",
       "      <td>0</td>\n",
       "      <td>924</td>\n",
       "    </tr>\n",
       "    <tr>\n",
       "      <th>53</th>\n",
       "      <td>30</td>\n",
       "      <td>30</td>\n",
       "      <td>30</td>\n",
       "      <td>30</td>\n",
       "      <td>30</td>\n",
       "      <td>30</td>\n",
       "      <td>30</td>\n",
       "      <td>30</td>\n",
       "      <td>30</td>\n",
       "      <td>30</td>\n",
       "      <td>...</td>\n",
       "      <td>30</td>\n",
       "      <td>30</td>\n",
       "      <td>30</td>\n",
       "      <td>30</td>\n",
       "      <td>30</td>\n",
       "      <td>30</td>\n",
       "      <td>30</td>\n",
       "      <td>30</td>\n",
       "      <td>0</td>\n",
       "      <td>30</td>\n",
       "    </tr>\n",
       "    <tr>\n",
       "      <th>65</th>\n",
       "      <td>981</td>\n",
       "      <td>981</td>\n",
       "      <td>981</td>\n",
       "      <td>981</td>\n",
       "      <td>981</td>\n",
       "      <td>981</td>\n",
       "      <td>981</td>\n",
       "      <td>981</td>\n",
       "      <td>981</td>\n",
       "      <td>981</td>\n",
       "      <td>...</td>\n",
       "      <td>981</td>\n",
       "      <td>981</td>\n",
       "      <td>981</td>\n",
       "      <td>981</td>\n",
       "      <td>981</td>\n",
       "      <td>981</td>\n",
       "      <td>981</td>\n",
       "      <td>981</td>\n",
       "      <td>0</td>\n",
       "      <td>981</td>\n",
       "    </tr>\n",
       "    <tr>\n",
       "      <th>92</th>\n",
       "      <td>239</td>\n",
       "      <td>239</td>\n",
       "      <td>239</td>\n",
       "      <td>239</td>\n",
       "      <td>239</td>\n",
       "      <td>239</td>\n",
       "      <td>239</td>\n",
       "      <td>239</td>\n",
       "      <td>239</td>\n",
       "      <td>239</td>\n",
       "      <td>...</td>\n",
       "      <td>239</td>\n",
       "      <td>239</td>\n",
       "      <td>239</td>\n",
       "      <td>239</td>\n",
       "      <td>239</td>\n",
       "      <td>239</td>\n",
       "      <td>239</td>\n",
       "      <td>239</td>\n",
       "      <td>0</td>\n",
       "      <td>239</td>\n",
       "    </tr>\n",
       "  </tbody>\n",
       "</table>\n",
       "<p>5 rows × 47 columns</p>\n",
       "</div>"
      ],
      "text/plain": [
       "        object_id  mean_u  median_u  std_u  max_u  min_u  mean_g  median_g  \\\n",
       "target                                                                       \n",
       "6             151     151       151    151    151    151     151       151   \n",
       "16            924     924       924    924    924    924     924       924   \n",
       "53             30      30        30     30     30     30      30        30   \n",
       "65            981     981       981    981    981    981     981       981   \n",
       "92            239     239       239    239    239    239     239       239   \n",
       "\n",
       "        std_g  max_g  ...     ra  decl  gal_l  gal_b  ddf  hostgal_specz  \\\n",
       "target                ...                                                  \n",
       "6         151    151  ...    151   151    151    151  151            151   \n",
       "16        924    924  ...    924   924    924    924  924            924   \n",
       "53         30     30  ...     30    30     30     30   30             30   \n",
       "65        981    981  ...    981   981    981    981  981            981   \n",
       "92        239    239  ...    239   239    239    239  239            239   \n",
       "\n",
       "        hostgal_photoz  hostgal_photoz_err  distmod  mwebv  \n",
       "target                                                      \n",
       "6                  151                 151        0    151  \n",
       "16                 924                 924        0    924  \n",
       "53                  30                  30        0     30  \n",
       "65                 981                 981        0    981  \n",
       "92                 239                 239        0    239  \n",
       "\n",
       "[5 rows x 47 columns]"
      ]
     },
     "execution_count": 15,
     "metadata": {},
     "output_type": "execute_result"
    }
   ],
   "source": [
    "#Filter to only galactic objects, which is the goal of this model\n",
    "#per the code book, galactic objects have hostgal_specz == 0\n",
    "egalmask = df['hostgal_specz'] != 0\n",
    "gal = df[~egalmask]\n",
    "display(gal.shape)\n",
    "#let's see our class imbalance\n",
    "gal.groupby('target').agg('count')"
   ]
  },
  {
   "cell_type": "code",
   "execution_count": 16,
   "metadata": {},
   "outputs": [
    {
     "data": {
      "text/plain": [
       "(2325, 40)"
      ]
     },
     "metadata": {},
     "output_type": "display_data"
    },
    {
     "data": {
      "text/plain": [
       "(2325,)"
      ]
     },
     "execution_count": 16,
     "metadata": {},
     "output_type": "execute_result"
    }
   ],
   "source": [
    "#Our classes are imbalanced and we'll need to Create SMOTE object\n",
    "sm = SMOTE(sampling_strategy='not majority')\n",
    "\n",
    "#Drop cols I don't want to generate with SMOTE. \n",
    "#Things like position in the sky or object_Id are meaningless to simulate with SMOTE\n",
    "Y = gal['target']\n",
    "#remove 'target' if using test data, remove distmod if extragalactic (maybe?)\n",
    "X = gal.drop(['object_id','target', 'ra', 'decl', 'gal_l', 'gal_b', 'ddf', 'distmod'], axis=1) \n",
    "\n",
    "display(X.shape)\n",
    "Y.shape"
   ]
  },
  {
   "cell_type": "code",
   "execution_count": 17,
   "metadata": {
    "scrolled": true
   },
   "outputs": [
    {
     "data": {
      "text/plain": [
       "0"
      ]
     },
     "execution_count": 17,
     "metadata": {},
     "output_type": "execute_result"
    }
   ],
   "source": [
    "#confirm no nans\n",
    "X.isnull().sum(axis=0).sum()\n"
   ]
  },
  {
   "cell_type": "code",
   "execution_count": 18,
   "metadata": {},
   "outputs": [
    {
     "data": {
      "text/plain": [
       "(4905, 40)"
      ]
     },
     "metadata": {},
     "output_type": "display_data"
    }
   ],
   "source": [
    "#Create extra samples and check how many were created\n",
    "X_new, Y_new = sm.fit_resample(X,Y)\n",
    "display(X_new.shape)"
   ]
  },
  {
   "cell_type": "code",
   "execution_count": 19,
   "metadata": {},
   "outputs": [
    {
     "data": {
      "text/html": [
       "<div>\n",
       "<style scoped>\n",
       "    .dataframe tbody tr th:only-of-type {\n",
       "        vertical-align: middle;\n",
       "    }\n",
       "\n",
       "    .dataframe tbody tr th {\n",
       "        vertical-align: top;\n",
       "    }\n",
       "\n",
       "    .dataframe thead th {\n",
       "        text-align: right;\n",
       "    }\n",
       "</style>\n",
       "<table border=\"1\" class=\"dataframe\">\n",
       "  <thead>\n",
       "    <tr style=\"text-align: right;\">\n",
       "      <th></th>\n",
       "      <th>mean_u</th>\n",
       "      <th>median_u</th>\n",
       "      <th>std_u</th>\n",
       "      <th>max_u</th>\n",
       "      <th>min_u</th>\n",
       "      <th>mean_g</th>\n",
       "      <th>median_g</th>\n",
       "      <th>std_g</th>\n",
       "      <th>max_g</th>\n",
       "      <th>min_g</th>\n",
       "      <th>...</th>\n",
       "      <th>errstd_u</th>\n",
       "      <th>errstd_g</th>\n",
       "      <th>errstd_r</th>\n",
       "      <th>errstd_i</th>\n",
       "      <th>errstd_z</th>\n",
       "      <th>errstd_Y</th>\n",
       "      <th>hostgal_specz</th>\n",
       "      <th>hostgal_photoz</th>\n",
       "      <th>hostgal_photoz_err</th>\n",
       "      <th>mwebv</th>\n",
       "    </tr>\n",
       "    <tr>\n",
       "      <th>target</th>\n",
       "      <th></th>\n",
       "      <th></th>\n",
       "      <th></th>\n",
       "      <th></th>\n",
       "      <th></th>\n",
       "      <th></th>\n",
       "      <th></th>\n",
       "      <th></th>\n",
       "      <th></th>\n",
       "      <th></th>\n",
       "      <th></th>\n",
       "      <th></th>\n",
       "      <th></th>\n",
       "      <th></th>\n",
       "      <th></th>\n",
       "      <th></th>\n",
       "      <th></th>\n",
       "      <th></th>\n",
       "      <th></th>\n",
       "      <th></th>\n",
       "      <th></th>\n",
       "    </tr>\n",
       "  </thead>\n",
       "  <tbody>\n",
       "    <tr>\n",
       "      <th>6</th>\n",
       "      <td>981</td>\n",
       "      <td>981</td>\n",
       "      <td>981</td>\n",
       "      <td>981</td>\n",
       "      <td>981</td>\n",
       "      <td>981</td>\n",
       "      <td>981</td>\n",
       "      <td>981</td>\n",
       "      <td>981</td>\n",
       "      <td>981</td>\n",
       "      <td>...</td>\n",
       "      <td>981</td>\n",
       "      <td>981</td>\n",
       "      <td>981</td>\n",
       "      <td>981</td>\n",
       "      <td>981</td>\n",
       "      <td>981</td>\n",
       "      <td>981</td>\n",
       "      <td>981</td>\n",
       "      <td>981</td>\n",
       "      <td>981</td>\n",
       "    </tr>\n",
       "    <tr>\n",
       "      <th>16</th>\n",
       "      <td>981</td>\n",
       "      <td>981</td>\n",
       "      <td>981</td>\n",
       "      <td>981</td>\n",
       "      <td>981</td>\n",
       "      <td>981</td>\n",
       "      <td>981</td>\n",
       "      <td>981</td>\n",
       "      <td>981</td>\n",
       "      <td>981</td>\n",
       "      <td>...</td>\n",
       "      <td>981</td>\n",
       "      <td>981</td>\n",
       "      <td>981</td>\n",
       "      <td>981</td>\n",
       "      <td>981</td>\n",
       "      <td>981</td>\n",
       "      <td>981</td>\n",
       "      <td>981</td>\n",
       "      <td>981</td>\n",
       "      <td>981</td>\n",
       "    </tr>\n",
       "    <tr>\n",
       "      <th>53</th>\n",
       "      <td>981</td>\n",
       "      <td>981</td>\n",
       "      <td>981</td>\n",
       "      <td>981</td>\n",
       "      <td>981</td>\n",
       "      <td>981</td>\n",
       "      <td>981</td>\n",
       "      <td>981</td>\n",
       "      <td>981</td>\n",
       "      <td>981</td>\n",
       "      <td>...</td>\n",
       "      <td>981</td>\n",
       "      <td>981</td>\n",
       "      <td>981</td>\n",
       "      <td>981</td>\n",
       "      <td>981</td>\n",
       "      <td>981</td>\n",
       "      <td>981</td>\n",
       "      <td>981</td>\n",
       "      <td>981</td>\n",
       "      <td>981</td>\n",
       "    </tr>\n",
       "    <tr>\n",
       "      <th>65</th>\n",
       "      <td>981</td>\n",
       "      <td>981</td>\n",
       "      <td>981</td>\n",
       "      <td>981</td>\n",
       "      <td>981</td>\n",
       "      <td>981</td>\n",
       "      <td>981</td>\n",
       "      <td>981</td>\n",
       "      <td>981</td>\n",
       "      <td>981</td>\n",
       "      <td>...</td>\n",
       "      <td>981</td>\n",
       "      <td>981</td>\n",
       "      <td>981</td>\n",
       "      <td>981</td>\n",
       "      <td>981</td>\n",
       "      <td>981</td>\n",
       "      <td>981</td>\n",
       "      <td>981</td>\n",
       "      <td>981</td>\n",
       "      <td>981</td>\n",
       "    </tr>\n",
       "    <tr>\n",
       "      <th>92</th>\n",
       "      <td>981</td>\n",
       "      <td>981</td>\n",
       "      <td>981</td>\n",
       "      <td>981</td>\n",
       "      <td>981</td>\n",
       "      <td>981</td>\n",
       "      <td>981</td>\n",
       "      <td>981</td>\n",
       "      <td>981</td>\n",
       "      <td>981</td>\n",
       "      <td>...</td>\n",
       "      <td>981</td>\n",
       "      <td>981</td>\n",
       "      <td>981</td>\n",
       "      <td>981</td>\n",
       "      <td>981</td>\n",
       "      <td>981</td>\n",
       "      <td>981</td>\n",
       "      <td>981</td>\n",
       "      <td>981</td>\n",
       "      <td>981</td>\n",
       "    </tr>\n",
       "  </tbody>\n",
       "</table>\n",
       "<p>5 rows × 40 columns</p>\n",
       "</div>"
      ],
      "text/plain": [
       "        mean_u  median_u  std_u  max_u  min_u  mean_g  median_g  std_g  max_g  \\\n",
       "target                                                                          \n",
       "6          981       981    981    981    981     981       981    981    981   \n",
       "16         981       981    981    981    981     981       981    981    981   \n",
       "53         981       981    981    981    981     981       981    981    981   \n",
       "65         981       981    981    981    981     981       981    981    981   \n",
       "92         981       981    981    981    981     981       981    981    981   \n",
       "\n",
       "        min_g  ...    errstd_u  errstd_g  errstd_r  errstd_i  errstd_z  \\\n",
       "target         ...                                                       \n",
       "6         981  ...         981       981       981       981       981   \n",
       "16        981  ...         981       981       981       981       981   \n",
       "53        981  ...         981       981       981       981       981   \n",
       "65        981  ...         981       981       981       981       981   \n",
       "92        981  ...         981       981       981       981       981   \n",
       "\n",
       "        errstd_Y  hostgal_specz  hostgal_photoz  hostgal_photoz_err  mwebv  \n",
       "target                                                                      \n",
       "6            981            981             981                 981    981  \n",
       "16           981            981             981                 981    981  \n",
       "53           981            981             981                 981    981  \n",
       "65           981            981             981                 981    981  \n",
       "92           981            981             981                 981    981  \n",
       "\n",
       "[5 rows x 40 columns]"
      ]
     },
     "execution_count": 19,
     "metadata": {},
     "output_type": "execute_result"
    }
   ],
   "source": [
    "#Re-add target and confirm balance\n",
    "df = pd.DataFrame(X_new, columns=X.columns)\n",
    "df['target'] = Y_new\n",
    "df.groupby('target').agg('count')"
   ]
  },
  {
   "cell_type": "markdown",
   "metadata": {},
   "source": [
    "# Lasso Regression for feature selection"
   ]
  },
  {
   "cell_type": "code",
   "execution_count": 27,
   "metadata": {
    "scrolled": true
   },
   "outputs": [
    {
     "name": "stdout",
     "output_type": "stream",
     "text": [
      "\n",
      " Percentage accuracy lasso\n",
      "0.783282364933741\n"
     ]
    }
   ],
   "source": [
    "lasso = LogisticRegressionCV(penalty='l1', Cs=1, cv=10, solver='liblinear', multi_class='auto', max_iter=200)\n",
    "X = df.drop('target', axis=1)\n",
    "Y = df['target']\n",
    "lassfit = lasso.fit(X, Y)\n",
    "print('\\n Percentage accuracy lasso')\n",
    "print(lassfit.score(X, Y))"
   ]
  },
  {
   "cell_type": "code",
   "execution_count": 30,
   "metadata": {
    "scrolled": true
   },
   "outputs": [
    {
     "name": "stdout",
     "output_type": "stream",
     "text": [
      "[40, 40, 40, 40, 40]\n"
     ]
    }
   ],
   "source": [
    "#looks like this stores a coefficient for each target class/column combination\n",
    "print([len(x) for x in lassfit.coef_])"
   ]
  },
  {
   "cell_type": "code",
   "execution_count": 54,
   "metadata": {},
   "outputs": [
    {
     "name": "stdout",
     "output_type": "stream",
     "text": [
      "mean_u:  [0.0, 0.0, 0.0, 0.0, 0.0]\n",
      "median_u:  [0.0, 0.0, 0.0, 0.0, 0.0]\n",
      "max_u:  [0.0, 0.0, 0.0, 0.0, 0.0]\n",
      "median_g:  [0.0, 0.0, 0.0, 0.0, 0.0]\n",
      "std_r:  [0.0, 0.0, 0.0, 0.0, 0.0]\n",
      "errstd_u:  [0.0, 0.0, 0.0, 0.0, 0.0]\n",
      "errstd_g:  [0.0, 0.0, 0.0, 0.0, 0.0]\n",
      "errstd_r:  [0.0, 0.0, 0.0, 0.0, 0.0]\n",
      "errstd_i:  [0.0, 0.0, 0.0, 0.0, 0.0]\n",
      "errstd_z:  [0.0, 0.0, 0.0, 0.0, 0.0]\n",
      "errstd_Y:  [0.0, 0.0, 0.0, 0.0, 0.0]\n",
      "hostgal_specz:  [0.0, 0.0, 0.0, 0.0, 0.0]\n",
      "hostgal_photoz:  [0.0, 0.0, 0.0, 0.0, 0.0]\n",
      "hostgal_photoz_err:  [0.0, 0.0, 0.0, 0.0, 0.0]\n",
      "mwebv:  [0.0, 0.0, 0.0, 0.0, 0.0]\n"
     ]
    }
   ],
   "source": [
    "#These are the features we can drop:\n",
    "for i,y in enumerate(X.columns):\n",
    "    if sum([x[i] for x in lassfit.coef_])==0:\n",
    "        print(y+\": \",[x[i] for x in lassfit.coef_])"
   ]
  },
  {
   "cell_type": "code",
   "execution_count": 57,
   "metadata": {},
   "outputs": [
    {
     "name": "stdout",
     "output_type": "stream",
     "text": [
      "std_u:  [0.0, 0.0, 0.0, -0.003877131475511737, 0.0]\n",
      "min_u:  [-0.0009795026652530008, 0.0, 0.0, 0.0, 0.0017203273422799145]\n",
      "mean_g:  [-5.805773146444283e-06, 0.0, 0.00017708829076440325, 0.0, 0.002121419152695737]\n",
      "std_g:  [0.0, 0.002570556470675719, 0.0, 0.0, -0.0014493691643227594]\n",
      "max_g:  [-0.0018519349207097467, 0.002552204634220459, 0.0, 0.0, -0.0017690346255829176]\n",
      "min_g:  [-0.0010725910033354373, 0.0015216870924265697, -0.00018457310543393992, 0.0, 0.0]\n",
      "mean_r:  [0.0, 0.003195247849368238, 0.0, 0.0, 0.0]\n",
      "median_r:  [-0.003033555070596582, 0.0012299687723499807, 0.0, 0.0, 0.0]\n",
      "max_r:  [0.0, 0.0, 0.0, 0.0, 0.0015435420682149911]\n",
      "min_r:  [0.000888303391865921, 0.0, 0.0, 0.0, 0.003477329611429287]\n",
      "mean_i:  [0.0016551105695399608, 0.0, 0.0, -0.00022147577007441236, 0.00042243376718292596]\n",
      "median_i:  [0.0, 0.0, 0.0003965152862336658, -0.0014284258408459602, 0.0017340662093049558]\n",
      "std_i:  [0.0, 0.0, 0.0032523295848495303, 0.0, 0.004351571988087526]\n",
      "max_i:  [-2.8284097631386146e-05, -3.0456613116633717e-05, -0.019715847463095917, 6.746476979849737e-05, 7.192692447597826e-05]\n",
      "min_i:  [-0.0005083713225351189, -0.001681539627503768, -0.0001732877779444098, 0.0002714747463351204, 0.001715354263755294]\n",
      "mean_z:  [0.0, -0.0011953562414452148, -0.0004817473529076942, 0.00017338066819820472, -0.0010319590304915887]\n",
      "median_z:  [-0.0004798380322365398, -0.00024165779135542574, 1.9896296627677398e-05, 0.0, -8.834541308531188e-05]\n",
      "std_z:  [0.0001278314402685299, -0.0015748735720517236, 0.0, 0.0, -0.0013590062023862576]\n",
      "max_z:  [0.0006942489240132256, -0.0031524234970901756, -0.000829328485056039, -0.00039384334542095665, -0.003089050826419798]\n",
      "min_z:  [-0.00014381103008698863, -0.00011959987030937462, 0.013221513684788475, 0.00010799231384057617, 0.00018886044569120451]\n",
      "mean_Y:  [0.0022047070410682983, -0.0001903762419821199, 0.0011867702156666356, 0.000429540796432524, 0.00036324182904077097]\n",
      "median_Y:  [0.0006285475125257707, -0.003935784528637774, 0.005967399402346495, 0.005953288064941067, 0.0016405391293322837]\n",
      "std_Y:  [0.00035075771775788843, -0.0020617434324444266, 0.0, 0.0015742509477943522, 0.0006220558323016362]\n",
      "max_Y:  [0.0006546150953008448, -0.0007369204855375349, -0.0006155211153566501, 0.0, 0.0011613939488743425]\n",
      "min_Y:  [0.0036010522657299988, 0.003302673169161548, 0.0, 0.0, 0.0]\n"
     ]
    }
   ],
   "source": [
    "#These we should keep:\n",
    "featnames =[]\n",
    "for i,y in enumerate(X.columns):\n",
    "    if sum([x[i] for x in lassfit.coef_])!=0:\n",
    "        print(y+\": \",[x[i] for x in lassfit.coef_])\n",
    "        featnames.append(y)"
   ]
  },
  {
   "cell_type": "code",
   "execution_count": 78,
   "metadata": {},
   "outputs": [
    {
     "data": {
      "text/plain": [
       "Index(['std_u', 'min_u', 'mean_g', 'std_g', 'max_g', 'min_g', 'mean_r',\n",
       "       'median_r', 'max_r', 'min_r', 'mean_i', 'median_i', 'std_i', 'max_i',\n",
       "       'min_i', 'mean_z', 'median_z', 'std_z', 'max_z', 'min_z', 'mean_Y',\n",
       "       'median_Y', 'std_Y', 'max_Y', 'min_Y'],\n",
       "      dtype='object')"
      ]
     },
     "execution_count": 78,
     "metadata": {},
     "output_type": "execute_result"
    }
   ],
   "source": [
    "X2.columns"
   ]
  },
  {
   "cell_type": "code",
   "execution_count": 77,
   "metadata": {},
   "outputs": [
    {
     "data": {
      "text/plain": [
       "(4905, 25)"
      ]
     },
     "metadata": {},
     "output_type": "display_data"
    },
    {
     "data": {
      "text/html": [
       "<div>\n",
       "<style scoped>\n",
       "    .dataframe tbody tr th:only-of-type {\n",
       "        vertical-align: middle;\n",
       "    }\n",
       "\n",
       "    .dataframe tbody tr th {\n",
       "        vertical-align: top;\n",
       "    }\n",
       "\n",
       "    .dataframe thead th {\n",
       "        text-align: right;\n",
       "    }\n",
       "</style>\n",
       "<table border=\"1\" class=\"dataframe\">\n",
       "  <thead>\n",
       "    <tr style=\"text-align: right;\">\n",
       "      <th></th>\n",
       "      <th>std_u</th>\n",
       "      <th>min_u</th>\n",
       "      <th>mean_g</th>\n",
       "      <th>std_g</th>\n",
       "      <th>max_g</th>\n",
       "      <th>min_g</th>\n",
       "      <th>mean_r</th>\n",
       "      <th>median_r</th>\n",
       "      <th>max_r</th>\n",
       "      <th>min_r</th>\n",
       "      <th>...</th>\n",
       "      <th>mean_z</th>\n",
       "      <th>median_z</th>\n",
       "      <th>std_z</th>\n",
       "      <th>max_z</th>\n",
       "      <th>min_z</th>\n",
       "      <th>mean_Y</th>\n",
       "      <th>median_Y</th>\n",
       "      <th>std_Y</th>\n",
       "      <th>max_Y</th>\n",
       "      <th>min_Y</th>\n",
       "    </tr>\n",
       "  </thead>\n",
       "  <tbody>\n",
       "    <tr>\n",
       "      <th>0</th>\n",
       "      <td>-134.146566</td>\n",
       "      <td>-55.954592</td>\n",
       "      <td>-47.449847</td>\n",
       "      <td>-488.057968</td>\n",
       "      <td>-265.686005</td>\n",
       "      <td>-162.170945</td>\n",
       "      <td>-103.541367</td>\n",
       "      <td>-85.524307</td>\n",
       "      <td>601.787302</td>\n",
       "      <td>455.121346</td>\n",
       "      <td>...</td>\n",
       "      <td>611.984558</td>\n",
       "      <td>445.737061</td>\n",
       "      <td>381.953735</td>\n",
       "      <td>378.188141</td>\n",
       "      <td>-116.913223</td>\n",
       "      <td>-1100.440063</td>\n",
       "      <td>-681.858887</td>\n",
       "      <td>-530.644592</td>\n",
       "      <td>-422.184509</td>\n",
       "      <td>-422.815094</td>\n",
       "    </tr>\n",
       "    <tr>\n",
       "      <th>1</th>\n",
       "      <td>0.041636</td>\n",
       "      <td>0.595782</td>\n",
       "      <td>-0.503772</td>\n",
       "      <td>-0.028842</td>\n",
       "      <td>0.160726</td>\n",
       "      <td>0.139306</td>\n",
       "      <td>1.009171</td>\n",
       "      <td>-1.685146</td>\n",
       "      <td>1.694776</td>\n",
       "      <td>1.338557</td>\n",
       "      <td>...</td>\n",
       "      <td>3.025061</td>\n",
       "      <td>3.990337</td>\n",
       "      <td>13.652751</td>\n",
       "      <td>17.768314</td>\n",
       "      <td>-3.818113</td>\n",
       "      <td>-2.582174</td>\n",
       "      <td>-2.793446</td>\n",
       "      <td>-3.693207</td>\n",
       "      <td>-8.176320</td>\n",
       "      <td>-12.695161</td>\n",
       "    </tr>\n",
       "    <tr>\n",
       "      <th>2</th>\n",
       "      <td>1.258178</td>\n",
       "      <td>-0.535383</td>\n",
       "      <td>-1.882209</td>\n",
       "      <td>-0.093323</td>\n",
       "      <td>0.139665</td>\n",
       "      <td>0.508403</td>\n",
       "      <td>0.388879</td>\n",
       "      <td>-1.110749</td>\n",
       "      <td>1.554792</td>\n",
       "      <td>6.152494</td>\n",
       "      <td>...</td>\n",
       "      <td>30.658575</td>\n",
       "      <td>4.062335</td>\n",
       "      <td>8.158356</td>\n",
       "      <td>15.606678</td>\n",
       "      <td>-7.061294</td>\n",
       "      <td>-3.843095</td>\n",
       "      <td>-2.316400</td>\n",
       "      <td>-6.478241</td>\n",
       "      <td>-9.012094</td>\n",
       "      <td>-52.764721</td>\n",
       "    </tr>\n",
       "    <tr>\n",
       "      <th>3</th>\n",
       "      <td>1.038388</td>\n",
       "      <td>32.965803</td>\n",
       "      <td>7.087901</td>\n",
       "      <td>0.484688</td>\n",
       "      <td>-0.045596</td>\n",
       "      <td>-0.213507</td>\n",
       "      <td>0.140599</td>\n",
       "      <td>-1.573071</td>\n",
       "      <td>6.202717</td>\n",
       "      <td>8.668026</td>\n",
       "      <td>...</td>\n",
       "      <td>63.732166</td>\n",
       "      <td>142.929169</td>\n",
       "      <td>1897.066772</td>\n",
       "      <td>432.418915</td>\n",
       "      <td>-6.794837</td>\n",
       "      <td>-12.490160</td>\n",
       "      <td>-5.809950</td>\n",
       "      <td>-7.007833</td>\n",
       "      <td>-10.981421</td>\n",
       "      <td>-24.442568</td>\n",
       "    </tr>\n",
       "    <tr>\n",
       "      <th>4</th>\n",
       "      <td>-6.376560</td>\n",
       "      <td>-2.888251</td>\n",
       "      <td>-0.909857</td>\n",
       "      <td>-0.050638</td>\n",
       "      <td>-2.184235</td>\n",
       "      <td>-1.862304</td>\n",
       "      <td>-0.190685</td>\n",
       "      <td>-0.415116</td>\n",
       "      <td>23.068975</td>\n",
       "      <td>35.239977</td>\n",
       "      <td>...</td>\n",
       "      <td>70.879387</td>\n",
       "      <td>64.997238</td>\n",
       "      <td>46.008011</td>\n",
       "      <td>29.690588</td>\n",
       "      <td>-8.199913</td>\n",
       "      <td>-137.934402</td>\n",
       "      <td>-216.426498</td>\n",
       "      <td>-186.129196</td>\n",
       "      <td>-126.412323</td>\n",
       "      <td>-63.193478</td>\n",
       "    </tr>\n",
       "  </tbody>\n",
       "</table>\n",
       "<p>5 rows × 25 columns</p>\n",
       "</div>"
      ],
      "text/plain": [
       "        std_u      min_u     mean_g       std_g       max_g       min_g  \\\n",
       "0 -134.146566 -55.954592 -47.449847 -488.057968 -265.686005 -162.170945   \n",
       "1    0.041636   0.595782  -0.503772   -0.028842    0.160726    0.139306   \n",
       "2    1.258178  -0.535383  -1.882209   -0.093323    0.139665    0.508403   \n",
       "3    1.038388  32.965803   7.087901    0.484688   -0.045596   -0.213507   \n",
       "4   -6.376560  -2.888251  -0.909857   -0.050638   -2.184235   -1.862304   \n",
       "\n",
       "       mean_r   median_r       max_r       min_r     ...          mean_z  \\\n",
       "0 -103.541367 -85.524307  601.787302  455.121346     ...      611.984558   \n",
       "1    1.009171  -1.685146    1.694776    1.338557     ...        3.025061   \n",
       "2    0.388879  -1.110749    1.554792    6.152494     ...       30.658575   \n",
       "3    0.140599  -1.573071    6.202717    8.668026     ...       63.732166   \n",
       "4   -0.190685  -0.415116   23.068975   35.239977     ...       70.879387   \n",
       "\n",
       "     median_z        std_z       max_z       min_z       mean_Y    median_Y  \\\n",
       "0  445.737061   381.953735  378.188141 -116.913223 -1100.440063 -681.858887   \n",
       "1    3.990337    13.652751   17.768314   -3.818113    -2.582174   -2.793446   \n",
       "2    4.062335     8.158356   15.606678   -7.061294    -3.843095   -2.316400   \n",
       "3  142.929169  1897.066772  432.418915   -6.794837   -12.490160   -5.809950   \n",
       "4   64.997238    46.008011   29.690588   -8.199913  -137.934402 -216.426498   \n",
       "\n",
       "        std_Y       max_Y       min_Y  \n",
       "0 -530.644592 -422.184509 -422.815094  \n",
       "1   -3.693207   -8.176320  -12.695161  \n",
       "2   -6.478241   -9.012094  -52.764721  \n",
       "3   -7.007833  -10.981421  -24.442568  \n",
       "4 -186.129196 -126.412323  -63.193478  \n",
       "\n",
       "[5 rows x 25 columns]"
      ]
     },
     "execution_count": 77,
     "metadata": {},
     "output_type": "execute_result"
    }
   ],
   "source": [
    "#Store the feats that are nonzero coefficients:\n",
    "X2 = X[featnames]\n",
    "display(X2.shape)\n",
    "X2.head()"
   ]
  },
  {
   "cell_type": "markdown",
   "metadata": {},
   "source": [
    "# KNN with lasso-chosen features"
   ]
  },
  {
   "cell_type": "code",
   "execution_count": 69,
   "metadata": {},
   "outputs": [
    {
     "data": {
      "text/plain": [
       "array([0.96370968, 0.95528455, 0.94715447, 0.95528455, 0.94693878,\n",
       "       0.93877551, 0.95102041, 0.95510204, 0.9795082 , 0.95884774])"
      ]
     },
     "metadata": {},
     "output_type": "display_data"
    },
    {
     "data": {
      "text/plain": [
       "0.955162592269583"
      ]
     },
     "execution_count": 69,
     "metadata": {},
     "output_type": "execute_result"
    }
   ],
   "source": [
    "#test a KNN\n",
    "\n",
    "#Create Train/Test splits\n",
    "galX_train, galX_test, galY_train, galY_test = train_test_split(\n",
    "    X2, Y, test_size=0.5)\n",
    "\n",
    "\n",
    "\n",
    "galknn = KNeighborsClassifier(n_neighbors=5, weights='distance')\n",
    "galknn.fit(galX_train, galY_train)\n",
    "\n",
    "scores = cross_val_score(galknn,galX_test,galY_test, cv=10)\n",
    "display(scores)\n",
    "scores.mean()"
   ]
  },
  {
   "cell_type": "code",
   "execution_count": null,
   "metadata": {},
   "outputs": [],
   "source": []
  },
  {
   "cell_type": "code",
   "execution_count": 75,
   "metadata": {},
   "outputs": [
    {
     "name": "stdout",
     "output_type": "stream",
     "text": [
      "Counter({92: 981, 65: 981, 16: 981, 6: 981, 53: 981})\n"
     ]
    },
    {
     "data": {
      "image/png": "[encoded data removed]",
      "text/plain": [
       "<Figure size 648x504 with 2 Axes>"
      ]
     },
     "metadata": {},
     "output_type": "display_data"
    }
   ],
   "source": [
    "counts = Counter(df['target'])\n",
    "galLabels, values = zip(*sorted(counts.items(), key=itemgetter(1)))\n",
    "\n",
    "srt = sorted(galLabels)\n",
    "galY_pred = galknn.predict(galX_test)\n",
    "print(counts)\n",
    "cm = confusion_matrix(galY_test, galY_pred,labels = srt)\n",
    "cm = cm.astype('float') / cm.sum(axis=1)[:, np.newaxis]\n",
    "annot = np.around(cm, 2)\n",
    "fig, ax = plt.subplots(figsize=(9,7))\n",
    "sns.heatmap(cm, yticklabels=srt,xticklabels=srt, cmap='Blues',annot = True, lw=0.5)\n",
    "ax.set_xlabel('Predicted Label')\n",
    "ax.set_ylabel('True Label')\n",
    "ax.set_aspect('equal')"
   ]
  },
  {
   "cell_type": "markdown",
   "metadata": {},
   "source": [
    "# Adding class 99 for unknown objects"
   ]
  },
  {
   "cell_type": "code",
   "execution_count": 72,
   "metadata": {},
   "outputs": [
    {
     "name": "stdout",
     "output_type": "stream",
     "text": [
      "1.0\n",
      "0.0\n"
     ]
    }
   ],
   "source": [
    "#generate probability of all classes for each object.\n",
    "#Classes will be the column titles:\n",
    "cols = sorted(Y.unique())\n",
    "\n",
    "#This df should have a row for each object and a column for each class. \n",
    "#the data are class probabilites and each row sums to 1 (100%)\n",
    "orderprobs = pd.DataFrame(galknn.predict_proba(galX_test), columns=cols)\n",
    "orderprobs['max_value'] = orderprobs.max(axis=1)\n",
    "#This variable is the 'unknown' threshold. If no probabilities are over this threshold, \n",
    "#the object will get assigned to the unknown class, 99.\n",
    "thresh = .6\n",
    "\n",
    "#if an object is getting assigned to class 99, this is the confidence level to give class 99.\n",
    "#all other classes will be scaled proportionately down from their original values so the row sums to 1 (100%)\n",
    "confidence99 = .75\n",
    "\n",
    "orderprobs[99] = np.where(orderprobs.max_value < thresh,confidence99,0)\n",
    "#Don't need the max value column anymore\n",
    "orderprobs = orderprobs.drop('max_value', axis=1)\n",
    "\n",
    "#loop through the columns, scaling down values for rows where class 99 is nonzero.\n",
    "for col in cols:\n",
    "    orderprobs[col] = orderprobs[col]*(1-orderprobs[99])\n",
    "\n",
    "    \n",
    "print(orderprobs.head(20).sum(axis=1).mean()) #This should be 1.0 if everything worked.\n",
    "print(orderprobs.head(20).sum(axis=1).std()) #This should be 0.0 if everything worked."
   ]
  },
  {
   "cell_type": "code",
   "execution_count": 73,
   "metadata": {},
   "outputs": [
    {
     "data": {
      "text/plain": [
       "6     653\n",
       "16    534\n",
       "53    520\n",
       "65    599\n",
       "92    546\n",
       "99     79\n",
       "dtype: int64"
      ]
     },
     "execution_count": 73,
     "metadata": {},
     "output_type": "execute_result"
    }
   ],
   "source": [
    "#How many objects got class 99?\n",
    "orderprobs.astype(bool).sum(axis=0)"
   ]
  },
  {
   "cell_type": "code",
   "execution_count": null,
   "metadata": {},
   "outputs": [],
   "source": []
  }
 ],
 "metadata": {
  "kernelspec": {
   "display_name": "Python 3",
   "language": "python",
   "name": "python3"
  },
  "language_info": {
   "codemirror_mode": {
    "name": "ipython",
    "version": 3
   },
   "file_extension": ".py",
   "mimetype": "text/x-python",
   "name": "python",
   "nbconvert_exporter": "python",
   "pygments_lexer": "ipython3",
   "version": "3.7.0"
  }
 },
 "nbformat": 4,
 "nbformat_minor": 2
}
